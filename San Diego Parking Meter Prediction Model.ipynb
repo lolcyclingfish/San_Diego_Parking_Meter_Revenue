{
 "cells": [
  {
   "cell_type": "markdown",
   "metadata": {},
   "source": [
    "# San Diego Parking Meter Day Revenue Prediction & Visualization\n",
    "\n",
    "Data Files: treas_parking_meters_loc_datasd (meter location), treas_parking_payments_2017_datasd (meter payment transactions)\n",
    "\n",
    "We would like to see a csv or excel file created reflects the following:\n",
    "1) Generate a file that includes: poleid, sub-area, year, month, day, time (being the 5 minute interval like08:05:00, 08:10:00, 08:15:00), the % of time during that interval that was paid for, count of transactionsthat started in that interval, count of transactions that expired during that interval)\n",
    "\n",
    "2) create a column named \"Paid Occupied Percentage\" - this will be the % of the time interval that we know someone has paid for based on the transaction start time and expire time\n",
    "\n",
    "5) Create a separate tab that shows your daily revenue predictions in comparison to actuals\n",
    "\n",
    "6) compile your code and findings in such a way that they can be reviewed (i.e. a python notebook).You are also free to provide additional analytics or insights into the data that you discover that you thinkare useful. This is a critical part of being a data scientist at Xaqt.\n"
   ]
  },
  {
   "cell_type": "code",
   "execution_count": 1,
   "metadata": {
    "collapsed": true
   },
   "outputs": [],
   "source": [
    "import numpy as np\n",
    "import pandas as pd\n",
    "import matplotlib.pyplot as plt\n",
    "#enable IPython to display matplotlib graphs\n",
    "%matplotlib inline\n",
    "import csv\n",
    "\n",
    "from sklearn.linear_model import LogisticRegression\n",
    "from sklearn.metrics import accuracy_score\n",
    "from sklearn.cross_validation import train_test_split\n",
    "from sklearn import metrics\n",
    "from sklearn.cross_validation import cross_val_score"
   ]
  },
  {
   "cell_type": "code",
   "execution_count": 2,
   "metadata": {
    "collapsed": true
   },
   "outputs": [],
   "source": [
    "sc=SparkContext.getOrCreate()\n",
    "#initiate SQLContext instance on Spark\n",
    "sqlContext = SQLContext(sc)"
   ]
  },
  {
   "cell_type": "raw",
   "metadata": {},
   "source": [
    "sc.stop()"
   ]
  },
  {
   "cell_type": "code",
   "execution_count": 3,
   "metadata": {
    "collapsed": false
   },
   "outputs": [
    {
     "name": "stdout",
     "output_type": "stream",
     "text": [
      "+---+--------------------+----------+-------+---------+----------+--------------------+--------------------+----------------+-----------------+---------------+----------------+-----------------+------------------+----------------+-----------------+\n",
      "|_c0|                uuid|meter_type|pole_id|trans_amt|pay_method|         trans_start|        meter_expire|trans_start_year|trans_start_month|trans_start_day|trans_start_time|meter_expire_year|meter_expire_month|meter_expire_day|meter_expire_time|\n",
      "+---+--------------------+----------+-------+---------+----------+--------------------+--------------------+----------------+-----------------+---------------+----------------+-----------------+------------------+----------------+-----------------+\n",
      "|  0|SSSL2161701010015...|        SS| SL-216|       55|      CASH|2017-01-01 00:15:...|2017-01-01 00:15:...|            2017|                1|              1|        00:15:18|             2017|                 1|               1|         00:15:18|\n",
      "|  1|SS540217010101034...|        SS|  5-402|      100|      CASH|2017-01-01 01:03:...|2017-01-01 01:03:...|            2017|                1|              1|        01:03:49|             2017|                 1|               1|         01:03:49|\n",
      "|  2|SSG50317010101235...|        SS|  G-503|      100|      CASH|2017-01-01 01:23:...|2017-01-01 01:23:...|            2017|                1|              1|        01:23:53|             2017|                 1|               1|         01:23:53|\n",
      "+---+--------------------+----------+-------+---------+----------+--------------------+--------------------+----------------+-----------------+---------------+----------------+-----------------+------------------+----------------+-----------------+\n",
      "only showing top 3 rows\n",
      "\n"
     ]
    }
   ],
   "source": [
    "#read data as Spark dataframe\n",
    "file = sqlContext.read.format('com.databricks.spark.csv').options(header='true', inferschema='true', sep=',').load('treas_parking_payments_2017_datasd_parsed.csv')\n",
    "file.show(3)"
   ]
  },
  {
   "cell_type": "raw",
   "metadata": {
    "collapsed": true
   },
   "source": [
    "file.to_csv(\"treas_parking_payments_2017_datasd_parsed.csv\", sep=',', header=True, index=False)\n",
    "file.shape\n",
    "file.columns\n",
    "file.dtypes"
   ]
  },
  {
   "cell_type": "raw",
   "metadata": {
    "collapsed": false
   },
   "source": [
    "#subset records in month 07, 08 into file2\n",
    "file2=file[(file['trans_start_month']==7)|(file['trans_start_month']==8)]\n",
    "file2.head(5)\n",
    "file2.shape #(1288611, 15)"
   ]
  },
  {
   "cell_type": "code",
   "execution_count": 4,
   "metadata": {
    "collapsed": false
   },
   "outputs": [
    {
     "name": "stdout",
     "output_type": "stream",
     "text": [
      "+-------+--------------------+----------+-------+---------+----------+--------------------+--------------------+----------------+-----------------+---------------+----------------+-----------------+------------------+----------------+-----------------+\n",
      "|    _c0|                uuid|meter_type|pole_id|trans_amt|pay_method|         trans_start|        meter_expire|trans_start_year|trans_start_month|trans_start_day|trans_start_time|meter_expire_year|meter_expire_month|meter_expire_day|meter_expire_time|\n",
      "+-------+--------------------+----------+-------+---------+----------+--------------------+--------------------+----------------+-----------------+---------------+----------------+-----------------+------------------+----------------+-----------------+\n",
      "|4854486|SSSL7081707010104...|        SS| SL-708|       10|      CASH|2017-07-01 01:04:...|2017-07-01 01:04:...|            2017|                7|              1|        01:04:40|             2017|                 7|               1|         01:04:40|\n",
      "|4854487|SSAH3131707010115...|        SS| AH-313|       50|      CASH|2017-07-01 01:15:...|2017-07-01 01:15:...|            2017|                7|              1|        01:15:33|             2017|                 7|               1|         01:15:33|\n",
      "|4854488|SSAH3131707010115...|        SS| AH-313|       25|      CASH|2017-07-01 01:15:...|2017-07-01 01:15:...|            2017|                7|              1|        01:15:41|             2017|                 7|               1|         01:15:41|\n",
      "+-------+--------------------+----------+-------+---------+----------+--------------------+--------------------+----------------+-----------------+---------------+----------------+-----------------+------------------+----------------+-----------------+\n",
      "only showing top 3 rows\n",
      "\n"
     ]
    }
   ],
   "source": [
    "#subset records in month 07, 08 into file2\n",
    "from pyspark.sql.functions import col \n",
    "\n",
    "file2=file.where((col('trans_start_month')==7) | (col('trans_start_month')==8))\n",
    "file2.show(3)"
   ]
  },
  {
   "cell_type": "markdown",
   "metadata": {
    "collapsed": false
   },
   "source": [
    "#Paid parking is only valid from 8am-6pm. Outside of this time range, if people accidentally paid the meter\n",
    "#it shows `meter_expire` to be the same as `trans_start`. We exclude this part of the record from our analysis\n",
    "file2[file2['trans_start']==file2['meter_expire']].shape #(10481, 15) rows omitted because of this\n",
    "file2=file2[file2['trans_start']!=file2['meter_expire']]\n",
    "file2.shape #(1278130, 15) left after removing transactions outside of meter operating hours"
   ]
  },
  {
   "cell_type": "code",
   "execution_count": 5,
   "metadata": {
    "collapsed": false
   },
   "outputs": [
    {
     "name": "stdout",
     "output_type": "stream",
     "text": [
      "+-------+--------------------+----------+-------+---------+-----------+--------------------+--------------------+----------------+-----------------+---------------+----------------+-----------------+------------------+----------------+-----------------+\n",
      "|    _c0|                uuid|meter_type|pole_id|trans_amt| pay_method|         trans_start|        meter_expire|trans_start_year|trans_start_month|trans_start_day|trans_start_time|meter_expire_year|meter_expire_month|meter_expire_day|meter_expire_time|\n",
      "+-------+--------------------+----------+-------+---------+-----------+--------------------+--------------------+----------------+-----------------+---------------+----------------+-----------------+------------------+----------------+-----------------+\n",
      "|4854496|SSWG800N170701060...|        SS|WG-800N|      375|       CASH|2017-07-01 06:01:...|2017-07-01 13:00:...|            2017|                7|              1|        06:01:31|             2017|                 7|               1|         13:00:00|\n",
      "|4854497|SSST800E170701060...|        SS|ST-800E|      150|CREDIT CARD|2017-07-01 06:01:...|2017-07-01 10:00:...|            2017|                7|              1|        06:01:46|             2017|                 7|               1|         10:00:00|\n",
      "|4854498|SSWF800N170701060...|        SS|WF-800N|      450|CREDIT CARD|2017-07-01 06:02:...|2017-07-01 14:00:...|            2017|                7|              1|        06:02:37|             2017|                 7|               1|         14:00:00|\n",
      "+-------+--------------------+----------+-------+---------+-----------+--------------------+--------------------+----------------+-----------------+---------------+----------------+-----------------+------------------+----------------+-----------------+\n",
      "only showing top 3 rows\n",
      "\n"
     ]
    }
   ],
   "source": [
    "#Paid parking is only valid from 8am-6pm. Outside of this time range, if people accidentally paid the meter\n",
    "#it shows `meter_expire` to be the same as `trans_start`. We exclude this part of the record from our analysis\n",
    "file3=file2.filter(file2.trans_start!=file2.meter_expire)\n",
    "file3.show(3)"
   ]
  },
  {
   "cell_type": "raw",
   "metadata": {
    "collapsed": false
   },
   "source": [
    "#we join meter transaction table file2 with meter location file loc by meter pole id:\n",
    "data=pd.merge(file2, loc, left_on='pole_id', right_on='pole', how='left')\n",
    "data.columns"
   ]
  },
  {
   "cell_type": "code",
   "execution_count": 6,
   "metadata": {
    "collapsed": false
   },
   "outputs": [
    {
     "name": "stdout",
     "output_type": "stream",
     "text": [
      "+----+------------+--------------------+-------+---------+--------------------+-----------+---------+\n",
      "|zone|        area|            sub_area|   pole|config_id|         config_name|  longitude| latitude|\n",
      "+----+------------+--------------------+-------+---------+--------------------+-----------+---------+\n",
      "|City|Barrio Logan|1000 CESAR CHAVEZ...|CC-1003|     9000|2 Hour Max $1.25 ...|-117.145178|32.700353|\n",
      "|City|Barrio Logan|1000 CESAR CHAVEZ...|CC-1005|     9000|2 Hour Max $1.25 ...|-117.145178|32.700352|\n",
      "|City|Barrio Logan|1000 CESAR CHAVEZ...|CC-1011|     9000|2 Hour Max $1.25 ...|-117.145349|32.700155|\n",
      "+----+------------+--------------------+-------+---------+--------------------+-----------+---------+\n",
      "only showing top 3 rows\n",
      "\n"
     ]
    }
   ],
   "source": [
    "loc = sqlContext.read.format('com.databricks.spark.csv').options(header='true', inferschema='true', sep=',').load('treas_parking_meters_loc_datasd.csv')\n",
    "loc.show(3)"
   ]
  },
  {
   "cell_type": "code",
   "execution_count": 7,
   "metadata": {
    "collapsed": false
   },
   "outputs": [
    {
     "name": "stdout",
     "output_type": "stream",
     "text": [
      "+-------+--------------------+----------+-------+---------+-----------+--------------------+--------------------+----------------+-----------------+---------------+----------------+-----------------+------------------+----------------+-----------------+--------+------+-------------+---------+--------------------+-----------+---------+\n",
      "|    _c0|                uuid|meter_type|pole_id|trans_amt| pay_method|         trans_start|        meter_expire|trans_start_year|trans_start_month|trans_start_day|trans_start_time|meter_expire_year|meter_expire_month|meter_expire_day|meter_expire_time|    zone|  area|     sub_area|config_id|         config_name|  longitude| latitude|\n",
      "+-------+--------------------+----------+-------+---------+-----------+--------------------+--------------------+----------------+-----------------+---------------+----------------+-----------------+------------------+----------------+-----------------+--------+------+-------------+---------+--------------------+-----------+---------+\n",
      "|4854496|SSWG800N170701060...|        SS|WG-800N|      375|       CASH|2017-07-01 06:01:...|2017-07-01 13:00:...|            2017|                7|              1|        06:01:31|             2017|                 7|               1|         13:00:00|Downtown|Marina|800 WEST G ST|    13177|MSPM 9 Hour Max $...|-117.170293| 32.71238|\n",
      "|4854497|SSST800E170701060...|        SS|ST-800E|      150|CREDIT CARD|2017-07-01 06:01:...|2017-07-01 10:00:...|            2017|                7|              1|        06:01:46|             2017|                 7|               1|         10:00:00|Downtown|Marina| 800 STATE ST|    13181|MSPM 2 Hour Max $...|-117.166454|32.713993|\n",
      "|4854498|SSWF800N170701060...|        SS|WF-800N|      450|CREDIT CARD|2017-07-01 06:02:...|2017-07-01 14:00:...|            2017|                7|              1|        06:02:37|             2017|                 7|               1|         14:00:00|Downtown|Marina|800 WEST F ST|    13177|MSPM 9 Hour Max $...|-117.170502|32.713672|\n",
      "+-------+--------------------+----------+-------+---------+-----------+--------------------+--------------------+----------------+-----------------+---------------+----------------+-----------------+------------------+----------------+-----------------+--------+------+-------------+---------+--------------------+-----------+---------+\n",
      "only showing top 3 rows\n",
      "\n"
     ]
    }
   ],
   "source": [
    "#we join meter transaction table file2 with meter location file loc by meter pole id:\n",
    "file4=file3.join(loc, file3.pole_id == loc.pole, \"left_outer\").drop(loc.pole)\n",
    "file4.show(3)"
   ]
  },
  {
   "cell_type": "raw",
   "metadata": {
    "collapsed": false
   },
   "source": [
    "#sanity check for NaNs\n",
    "nan_rows(data).shape #(9402, 23) rows unmatched from meter location file\n",
    "nan_cols(data)"
   ]
  },
  {
   "cell_type": "raw",
   "metadata": {
    "collapsed": false
   },
   "source": [
    "#we will also drop all the rows where records are not matched from meter location file:\n",
    "data=data.loc[~data[nan_cols(data)].isnull().any(axis=1),:]\n",
    "data.shape #(1268728, 23) records left"
   ]
  },
  {
   "cell_type": "code",
   "execution_count": 8,
   "metadata": {
    "collapsed": false
   },
   "outputs": [
    {
     "data": {
      "text/plain": [
       "1268728"
      ]
     },
     "execution_count": 8,
     "metadata": {},
     "output_type": "execute_result"
    }
   ],
   "source": [
    "#drop all the rows where records are not matched from meter location file:\n",
    "file4=file4.dropna()\n",
    "file4.count()"
   ]
  },
  {
   "cell_type": "code",
   "execution_count": 9,
   "metadata": {
    "collapsed": false
   },
   "outputs": [
    {
     "name": "stdout",
     "output_type": "stream",
     "text": [
      "+-------+--------------------+----------+-------+---------+-----------+--------------------+--------------------+----------------+-----------------+---------------+----------------+-----------------+------------------+----------------+-----------------+--------+------+-------------+---------+--------------------+-----------+---------+------+\n",
      "|    _c0|                uuid|meter_type|pole_id|trans_amt| pay_method|         trans_start|        meter_expire|trans_start_year|trans_start_month|trans_start_day|trans_start_time|meter_expire_year|meter_expire_month|meter_expire_day|meter_expire_time|    zone|  area|     sub_area|config_id|         config_name|  longitude| latitude|  date|\n",
      "+-------+--------------------+----------+-------+---------+-----------+--------------------+--------------------+----------------+-----------------+---------------+----------------+-----------------+------------------+----------------+-----------------+--------+------+-------------+---------+--------------------+-----------+---------+------+\n",
      "|4854496|SSWG800N170701060...|        SS|WG-800N|      375|       CASH|2017-07-01 06:01:...|2017-07-01 13:00:...|            2017|                7|              1|        06:01:31|             2017|                 7|               1|         13:00:00|Downtown|Marina|800 WEST G ST|    13177|MSPM 9 Hour Max $...|-117.170293| 32.71238|201771|\n",
      "|4854497|SSST800E170701060...|        SS|ST-800E|      150|CREDIT CARD|2017-07-01 06:01:...|2017-07-01 10:00:...|            2017|                7|              1|        06:01:46|             2017|                 7|               1|         10:00:00|Downtown|Marina| 800 STATE ST|    13181|MSPM 2 Hour Max $...|-117.166454|32.713993|201771|\n",
      "|4854498|SSWF800N170701060...|        SS|WF-800N|      450|CREDIT CARD|2017-07-01 06:02:...|2017-07-01 14:00:...|            2017|                7|              1|        06:02:37|             2017|                 7|               1|         14:00:00|Downtown|Marina|800 WEST F ST|    13177|MSPM 9 Hour Max $...|-117.170502|32.713672|201771|\n",
      "+-------+--------------------+----------+-------+---------+-----------+--------------------+--------------------+----------------+-----------------+---------------+----------------+-----------------+------------------+----------------+-----------------+--------+------+-------------+---------+--------------------+-----------+---------+------+\n",
      "only showing top 3 rows\n",
      "\n"
     ]
    }
   ],
   "source": [
    "#create new column date that concatenate transaction year, month, day together:\n",
    "from pyspark.sql.functions import concat, col, lit\n",
    "file4 = file4.withColumn('date', concat(col('trans_start_year'), \n",
    "                                        col('trans_start_month'),\n",
    "                                       col('trans_start_day')))\n",
    "file4.show(3)"
   ]
  },
  {
   "cell_type": "code",
   "execution_count": 40,
   "metadata": {
    "collapsed": false
   },
   "outputs": [
    {
     "name": "stdout",
     "output_type": "stream",
     "text": [
      "+-------+--------------+\n",
      "|   date|sum(trans_amt)|\n",
      "+-------+--------------+\n",
      "| 201789|       3687416|\n",
      "| 201788|       3721204|\n",
      "| 201787|       3495326|\n",
      "| 201785|       3496341|\n",
      "| 201784|       3780824|\n",
      "| 201783|       3751091|\n",
      "| 201782|       3752886|\n",
      "|2017814|       3403125|\n",
      "|2017813|            25|\n",
      "|2017812|       3423217|\n",
      "|2017811|       3723263|\n",
      "|2017810|       3695786|\n",
      "| 201781|       3738601|\n",
      "| 201778|       3529107|\n",
      "| 201777|       3807751|\n",
      "| 201776|       3853585|\n",
      "| 201775|       3642764|\n",
      "| 201774|          7500|\n",
      "|2017731|       3523958|\n",
      "|2017730|            75|\n",
      "+-------+--------------+\n",
      "only showing top 20 rows\n",
      "\n"
     ]
    },
    {
     "data": {
      "text/plain": [
       "43"
      ]
     },
     "execution_count": 40,
     "metadata": {},
     "output_type": "execute_result"
    }
   ],
   "source": [
    "#calculate daily parking meter revenue, average value per transaction:\n",
    "#spark 2.0 does not recognize multiple aggregations for the same column in one command, use function F\n",
    "#from pyspark.sql import functions as F\n",
    "#daily_revenue = file4.groupby('date').agg(file4.date, F.sum('trans_amt'), F.avg('trans_amt'))\n",
    "daily_revenue=file4.groupby('date').agg({'trans_amt':'sum'}).sort(desc(\"date\"))\n",
    "daily_revenue.show()\n",
    "daily_revenue.count() #43 days of record "
   ]
  },
  {
   "cell_type": "code",
   "execution_count": 41,
   "metadata": {
    "collapsed": false
   },
   "outputs": [
    {
     "name": "stdout",
     "output_type": "stream",
     "text": [
      "+-------+-------------+\n",
      "|   date|daily_rev_sum|\n",
      "+-------+-------------+\n",
      "| 201789|      3687416|\n",
      "| 201788|      3721204|\n",
      "| 201787|      3495326|\n",
      "| 201785|      3496341|\n",
      "| 201784|      3780824|\n",
      "| 201783|      3751091|\n",
      "| 201782|      3752886|\n",
      "|2017814|      3403125|\n",
      "|2017813|           25|\n",
      "|2017812|      3423217|\n",
      "|2017811|      3723263|\n",
      "|2017810|      3695786|\n",
      "| 201781|      3738601|\n",
      "| 201778|      3529107|\n",
      "| 201777|      3807751|\n",
      "| 201776|      3853585|\n",
      "| 201775|      3642764|\n",
      "| 201774|         7500|\n",
      "|2017731|      3523958|\n",
      "|2017730|           75|\n",
      "+-------+-------------+\n",
      "only showing top 20 rows\n",
      "\n"
     ]
    }
   ],
   "source": [
    "#rename accounts with function name embedded to avoid confusion\n",
    "\n",
    "#and sort by date in descending order\n",
    "#from pyspark.sql.functions import *\n",
    "#daily_revenue=daily_revenue.sort(desc(\"date\")).collect()\n",
    "\n",
    "daily_revenue = daily_revenue.select(col(\"date\").alias(\"date\"), col(\"sum(trans_amt)\").alias(\"daily_rev_sum\"))\n",
    "daily_revenue.show()"
   ]
  },
  {
   "cell_type": "code",
   "execution_count": 39,
   "metadata": {
    "collapsed": false
   },
   "outputs": [
    {
     "name": "stdout",
     "output_type": "stream",
     "text": [
      "+-------+------------------+-----------+\n",
      "|   date|    avg(trans_amt)|count(uuid)|\n",
      "+-------+------------------+-----------+\n",
      "| 201789| 106.6898906313292|      34562|\n",
      "| 201788|107.17753456221199|      34720|\n",
      "| 201787|104.23851843015626|      33532|\n",
      "| 201785|110.25293264379415|      31712|\n",
      "| 201784|105.47408357975786|      35846|\n",
      "| 201783|  106.586281362771|      35193|\n",
      "| 201782|108.89609146040681|      34463|\n",
      "|2017814| 104.5539033457249|      32549|\n",
      "|2017813|              25.0|          1|\n",
      "|2017812|111.03885951539135|      30829|\n",
      "|2017811|105.69044510048825|      35228|\n",
      "|2017810|106.54671779052671|      34687|\n",
      "| 201781|106.79276165447898|      35008|\n",
      "| 201778|111.54293751382787|      31639|\n",
      "| 201777|105.69159241679851|      36027|\n",
      "| 201776|105.84736451781251|      36407|\n",
      "| 201775|104.27560542737734|      34934|\n",
      "| 201774|144.23076923076923|         52|\n",
      "|2017731|104.74876642292372|      33642|\n",
      "|2017730|              75.0|          1|\n",
      "+-------+------------------+-----------+\n",
      "only showing top 20 rows\n",
      "\n"
     ]
    }
   ],
   "source": [
    "#calculate daily total number of transactions, average transaction value\n",
    "daily_transaction=file4.groupby('date').agg({'uuid':'count','trans_amt':'avg'}).sort(desc(\"date\"))\n",
    "daily_transaction.show()"
   ]
  },
  {
   "cell_type": "code",
   "execution_count": 42,
   "metadata": {
    "collapsed": false
   },
   "outputs": [
    {
     "name": "stdout",
     "output_type": "stream",
     "text": [
      "+-------+------------------+-----------+\n",
      "|   date|     daily_rev_avg|count_trans|\n",
      "+-------+------------------+-----------+\n",
      "| 201789| 106.6898906313292|      34562|\n",
      "| 201788|107.17753456221199|      34720|\n",
      "| 201787|104.23851843015626|      33532|\n",
      "| 201785|110.25293264379415|      31712|\n",
      "| 201784|105.47408357975786|      35846|\n",
      "| 201783|  106.586281362771|      35193|\n",
      "| 201782|108.89609146040681|      34463|\n",
      "|2017814| 104.5539033457249|      32549|\n",
      "|2017813|              25.0|          1|\n",
      "|2017812|111.03885951539135|      30829|\n",
      "|2017811|105.69044510048825|      35228|\n",
      "|2017810|106.54671779052671|      34687|\n",
      "| 201781|106.79276165447898|      35008|\n",
      "| 201778|111.54293751382787|      31639|\n",
      "| 201777|105.69159241679851|      36027|\n",
      "| 201776|105.84736451781251|      36407|\n",
      "| 201775|104.27560542737734|      34934|\n",
      "| 201774|144.23076923076923|         52|\n",
      "|2017731|104.74876642292372|      33642|\n",
      "|2017730|              75.0|          1|\n",
      "+-------+------------------+-----------+\n",
      "only showing top 20 rows\n",
      "\n"
     ]
    }
   ],
   "source": [
    "#rename accounts with function name embedded to avoid confusion:\n",
    "daily_transaction = daily_transaction.select(col(\"date\").alias(\"date\"), col(\"avg(trans_amt)\").alias(\"daily_rev_avg\"), \n",
    "                                     col(\"count(uuid)\").alias(\"count_trans\"))\n",
    "daily_transaction.show()"
   ]
  },
  {
   "cell_type": "code",
   "execution_count": 16,
   "metadata": {
    "collapsed": false,
    "scrolled": true
   },
   "outputs": [
    {
     "name": "stdout",
     "output_type": "stream",
     "text": [
      "+-------+--------------------+----------+-------+---------+-----------+--------------------+--------------------+----------------+-----------------+---------------+----------------+-----------------+------------------+----------------+-----------------+--------+------+-------------+---------+--------------------+-----------+---------+------+-----------+\n",
      "|    _c0|                uuid|meter_type|pole_id|trans_amt| pay_method|         trans_start|        meter_expire|trans_start_year|trans_start_month|trans_start_day|trans_start_time|meter_expire_year|meter_expire_month|meter_expire_day|meter_expire_time|    zone|  area|     sub_area|config_id|         config_name|  longitude| latitude|  date|day_of_week|\n",
      "+-------+--------------------+----------+-------+---------+-----------+--------------------+--------------------+----------------+-----------------+---------------+----------------+-----------------+------------------+----------------+-----------------+--------+------+-------------+---------+--------------------+-----------+---------+------+-----------+\n",
      "|4854496|SSWG800N170701060...|        SS|WG-800N|      375|       CASH|2017-07-01 06:01:...|2017-07-01 13:00:...|            2017|                7|              1|        06:01:31|             2017|                 7|               1|         13:00:00|Downtown|Marina|800 WEST G ST|    13177|MSPM 9 Hour Max $...|-117.170293| 32.71238|201771|          5|\n",
      "|4854497|SSST800E170701060...|        SS|ST-800E|      150|CREDIT CARD|2017-07-01 06:01:...|2017-07-01 10:00:...|            2017|                7|              1|        06:01:46|             2017|                 7|               1|         10:00:00|Downtown|Marina| 800 STATE ST|    13181|MSPM 2 Hour Max $...|-117.166454|32.713993|201771|          5|\n",
      "|4854498|SSWF800N170701060...|        SS|WF-800N|      450|CREDIT CARD|2017-07-01 06:02:...|2017-07-01 14:00:...|            2017|                7|              1|        06:02:37|             2017|                 7|               1|         14:00:00|Downtown|Marina|800 WEST F ST|    13177|MSPM 9 Hour Max $...|-117.170502|32.713672|201771|          5|\n",
      "+-------+--------------------+----------+-------+---------+-----------+--------------------+--------------------+----------------+-----------------+---------------+----------------+-----------------+------------------+----------------+-----------------+--------+------+-------------+---------+--------------------+-----------+---------+------+-----------+\n",
      "only showing top 3 rows\n",
      "\n"
     ]
    }
   ],
   "source": [
    "#calculate week of the day\n",
    "# user defined function to parse the time string cell intonullable = true datetime format and return day of the week:\n",
    "from pyspark.sql import functions as F\n",
    "from pyspark.sql import types as t\n",
    "from datetime import datetime\n",
    "\n",
    "def func(x):\n",
    "    return datetime.strptime(str(x), '%Y-%m-%d %H:%M:%S').weekday()\n",
    "UDF = F.udf(func, t.IntegerType())\n",
    "file4=file4.withColumn('day_of_week', UDF(col('trans_start')))\n",
    "file4.show(3)"
   ]
  },
  {
   "cell_type": "raw",
   "metadata": {},
   "source": [
    "#calculate time series variables: three days moving average of daily average revenue\n",
    "def mov_avg(x,y):\n",
    "    return pd.rolling_mean(x,y)\n",
    "daily_transaction=daily_transaction.withColumn('MA3D', mov_avg(col('daily_rev_avg'),3))\n",
    "daily_transaction.show()"
   ]
  },
  {
   "cell_type": "code",
   "execution_count": 47,
   "metadata": {
    "collapsed": false
   },
   "outputs": [
    {
     "data": {
      "text/html": [
       "<div>\n",
       "<table border=\"1\" class=\"dataframe\">\n",
       "  <thead>\n",
       "    <tr style=\"text-align: right;\">\n",
       "      <th></th>\n",
       "      <th>date</th>\n",
       "      <th>daily_rev_avg</th>\n",
       "      <th>count_trans</th>\n",
       "    </tr>\n",
       "  </thead>\n",
       "  <tbody>\n",
       "    <tr>\n",
       "      <th>0</th>\n",
       "      <td>201789</td>\n",
       "      <td>106.689891</td>\n",
       "      <td>34562</td>\n",
       "    </tr>\n",
       "    <tr>\n",
       "      <th>1</th>\n",
       "      <td>201788</td>\n",
       "      <td>107.177535</td>\n",
       "      <td>34720</td>\n",
       "    </tr>\n",
       "    <tr>\n",
       "      <th>2</th>\n",
       "      <td>201787</td>\n",
       "      <td>104.238518</td>\n",
       "      <td>33532</td>\n",
       "    </tr>\n",
       "    <tr>\n",
       "      <th>3</th>\n",
       "      <td>201785</td>\n",
       "      <td>110.252933</td>\n",
       "      <td>31712</td>\n",
       "    </tr>\n",
       "    <tr>\n",
       "      <th>4</th>\n",
       "      <td>201784</td>\n",
       "      <td>105.474084</td>\n",
       "      <td>35846</td>\n",
       "    </tr>\n",
       "    <tr>\n",
       "      <th>5</th>\n",
       "      <td>201783</td>\n",
       "      <td>106.586281</td>\n",
       "      <td>35193</td>\n",
       "    </tr>\n",
       "    <tr>\n",
       "      <th>6</th>\n",
       "      <td>201782</td>\n",
       "      <td>108.896091</td>\n",
       "      <td>34463</td>\n",
       "    </tr>\n",
       "    <tr>\n",
       "      <th>7</th>\n",
       "      <td>2017814</td>\n",
       "      <td>104.553903</td>\n",
       "      <td>32549</td>\n",
       "    </tr>\n",
       "    <tr>\n",
       "      <th>8</th>\n",
       "      <td>2017813</td>\n",
       "      <td>25.000000</td>\n",
       "      <td>1</td>\n",
       "    </tr>\n",
       "    <tr>\n",
       "      <th>9</th>\n",
       "      <td>2017812</td>\n",
       "      <td>111.038860</td>\n",
       "      <td>30829</td>\n",
       "    </tr>\n",
       "  </tbody>\n",
       "</table>\n",
       "</div>"
      ],
      "text/plain": [
       "      date  daily_rev_avg  count_trans\n",
       "0   201789     106.689891        34562\n",
       "1   201788     107.177535        34720\n",
       "2   201787     104.238518        33532\n",
       "3   201785     110.252933        31712\n",
       "4   201784     105.474084        35846\n",
       "5   201783     106.586281        35193\n",
       "6   201782     108.896091        34463\n",
       "7  2017814     104.553903        32549\n",
       "8  2017813      25.000000            1\n",
       "9  2017812     111.038860        30829"
      ]
     },
     "execution_count": 47,
     "metadata": {},
     "output_type": "execute_result"
    }
   ],
   "source": [
    "#joined all newly created variables into one table with primary key being date:\n",
    "data=daily_transaction.toPandas()\n",
    "data.head(10)"
   ]
  },
  {
   "cell_type": "code",
   "execution_count": null,
   "metadata": {
    "collapsed": true
   },
   "outputs": [],
   "source": []
  }
 ],
 "metadata": {
  "anaconda-cloud": {},
  "kernelspec": {
   "display_name": "Python [conda root]",
   "language": "python",
   "name": "conda-root-py"
  },
  "language_info": {
   "codemirror_mode": {
    "name": "ipython",
    "version": 3
   },
   "file_extension": ".py",
   "mimetype": "text/x-python",
   "name": "python",
   "nbconvert_exporter": "python",
   "pygments_lexer": "ipython3",
   "version": "3.5.2"
  }
 },
 "nbformat": 4,
 "nbformat_minor": 1
}
